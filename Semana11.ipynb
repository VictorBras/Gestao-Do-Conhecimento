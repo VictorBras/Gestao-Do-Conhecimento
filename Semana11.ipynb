{
  "nbformat": 4,
  "nbformat_minor": 0,
  "metadata": {
    "colab": {
      "name": "Semana11.ipynb",
      "provenance": [],
      "collapsed_sections": [],
      "authorship_tag": "ABX9TyMpcIFH4wfyqXIg3kOEQ4do",
      "include_colab_link": true
    },
    "kernelspec": {
      "name": "python3",
      "display_name": "Python 3"
    },
    "language_info": {
      "name": "python"
    }
  },
  "cells": [
    {
      "cell_type": "markdown",
      "metadata": {
        "id": "view-in-github",
        "colab_type": "text"
      },
      "source": [
        "<a href=\"https://colab.research.google.com/github/VictorBras/Gestao-Do-Conhecimento/blob/master/Semana11.ipynb\" target=\"_parent\"><img src=\"https://colab.research.google.com/assets/colab-badge.svg\" alt=\"Open In Colab\"/></a>"
      ]
    },
    {
      "cell_type": "code",
      "metadata": {
        "id": "IbIiPNDiTmNm"
      },
      "source": [
        "print('Olá Mundo')"
      ],
      "execution_count": null,
      "outputs": []
    },
    {
      "cell_type": "code",
      "metadata": {
        "id": "pTTxdSjwVyG3"
      },
      "source": [
        "print('Contando:')\n",
        "for i in range(0, 10):\n",
        "  print(i)\n",
        "print('Fim da contagem!')"
      ],
      "execution_count": null,
      "outputs": []
    },
    {
      "cell_type": "markdown",
      "metadata": {
        "id": "U6q2bnjzZ6D5"
      },
      "source": [
        "# Iniciando com Pandas"
      ]
    },
    {
      "cell_type": "code",
      "metadata": {
        "id": "QWrEzwnAZ-kl"
      },
      "source": [
        "import pandas as pd\n",
        "import numpy as np\n",
        "\n"
      ],
      "execution_count": 2,
      "outputs": []
    },
    {
      "cell_type": "code",
      "metadata": {
        "id": "_H12gu2HaQ55"
      },
      "source": [
        "data = pd.read_csv(\"https://raw.githubusercontent.com/adaoduque/Brasileirao_Dataset/master/campeonato-brasileiro-full.csv\")"
      ],
      "execution_count": 3,
      "outputs": []
    },
    {
      "cell_type": "markdown",
      "metadata": {
        "id": "ZTcwMaOwWXuS"
      },
      "source": [
        "## Selecionando o Maior Vencedor"
      ]
    },
    {
      "cell_type": "markdown",
      "metadata": {
        "id": "2yUPCU3bbz6w"
      },
      "source": [
        "### Maior Vencedor Geral"
      ]
    },
    {
      "cell_type": "code",
      "metadata": {
        "colab": {
          "base_uri": "https://localhost:8080/"
        },
        "id": "j41oKMUaWHeJ",
        "outputId": "3e13d582-2b20-42b1-d0ee-bef9659ca28b"
      },
      "source": [
        "data[data['Vencedor'] != '-']['Vencedor'].mode()"
      ],
      "execution_count": 15,
      "outputs": [
        {
          "output_type": "execute_result",
          "data": {
            "text/plain": [
              "0    São Paulo\n",
              "dtype: object"
            ]
          },
          "metadata": {
            "tags": []
          },
          "execution_count": 15
        }
      ]
    },
    {
      "cell_type": "markdown",
      "metadata": {
        "id": "X9IZ6hceb6mK"
      },
      "source": [
        "### Maior vencedor nos últimos 5 anos"
      ]
    },
    {
      "cell_type": "code",
      "metadata": {
        "colab": {
          "base_uri": "https://localhost:8080/"
        },
        "id": "FtJArihqcBFz",
        "outputId": "a2ebf96d-e9bc-4d5b-e1c2-2da9bbed914c"
      },
      "source": [
        "data[np.logical_and(data['Vencedor'] != '-', data['Data'] > '2016-01-01')]['Vencedor'].mode()"
      ],
      "execution_count": 13,
      "outputs": [
        {
          "output_type": "execute_result",
          "data": {
            "text/plain": [
              "0    Flamengo\n",
              "dtype: object"
            ]
          },
          "metadata": {
            "tags": []
          },
          "execution_count": 13
        }
      ]
    },
    {
      "cell_type": "markdown",
      "metadata": {
        "id": "6IWFeFsbcETd"
      },
      "source": [
        "## Selecionando o time que mais empata"
      ]
    },
    {
      "cell_type": "code",
      "metadata": {
        "colab": {
          "base_uri": "https://localhost:8080/"
        },
        "id": "Y9j4NsT3Z9XX",
        "outputId": "0a0b22d3-a954-4510-8e50-cfb3f6658d84"
      },
      "source": [
        "empates = data[data['Vencedor'] == '-']\n",
        "\n",
        "visitantes = empates['Visitante']\n",
        "mandantes = empates['Mandante']\n",
        "\n",
        "pd.concat([visitantes, mandantes]).mode()\n"
      ],
      "execution_count": 49,
      "outputs": [
        {
          "output_type": "execute_result",
          "data": {
            "text/plain": [
              "0    Flamengo\n",
              "dtype: object"
            ]
          },
          "metadata": {
            "tags": []
          },
          "execution_count": 49
        }
      ]
    },
    {
      "cell_type": "markdown",
      "metadata": {
        "id": "CqOOr9HgkXJl"
      },
      "source": [
        "## Selecionando o estádio com mais jogos"
      ]
    },
    {
      "cell_type": "code",
      "metadata": {
        "colab": {
          "base_uri": "https://localhost:8080/"
        },
        "id": "exAOGO2mkb6v",
        "outputId": "8c10f11d-306e-4c31-ee33-82db91fe2a8c"
      },
      "source": [
        "data['Arena'].mode()"
      ],
      "execution_count": 50,
      "outputs": [
        {
          "output_type": "execute_result",
          "data": {
            "text/plain": [
              "0    Maracanã\n",
              "dtype: object"
            ]
          },
          "metadata": {
            "tags": []
          },
          "execution_count": 50
        }
      ]
    }
  ]
}